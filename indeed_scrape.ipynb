{
 "cells": [
  {
   "cell_type": "code",
   "execution_count": 4,
   "metadata": {},
   "outputs": [],
   "source": [
    "import asyncio\n",
    "from pyppeteer import launch\n",
    "import csv"
   ]
  },
  {
   "cell_type": "code",
   "execution_count": 27,
   "metadata": {},
   "outputs": [],
   "source": [
    "async def scrape_indeed():\n",
    "    browser = await launch(headless=False)\n",
    "    page = await browser.newPage()\n",
    "\n",
    "\n",
    "    await page.goto('https://www.indeed.com')\n",
    "\n",
    "    # Wait for 5 seconds\n",
    "    await asyncio.sleep(5) \n",
    "    # Input job title\n",
    "    await page.type('input[name=\"q\"]', \"data analyst\")\n",
    "\n",
    "     # Clear the default location\n",
    "    location_input_selector = 'input[name=\"l\"]'\n",
    "    await page.click(location_input_selector, {'clickCount': 3})  # Triple click to select all text\n",
    "    await page.keyboard.press('Backspace')  # Clear the text\n",
    "\n",
    "    # Input new location\n",
    "    await page.type(location_input_selector, \"USA\")\n",
    "\n",
    "    # Click search button\n",
    "    await page.click('button[type=\"submit\"]')\n",
    "\n",
    "\n",
    "    await page.waitForNavigation()\n",
    "\n",
    "    # Apply \"Date Posted\" filter for \"Last 3 days\"\n",
    "    await page.waitForSelector('#filter-dateposted')\n",
    "    await page.click('#filter-dateposted')\n",
    "\n",
    "    # Select the \"Last 3 days\" option\n",
    "    await page.waitForSelector('a[href*=\"&fromage=3\"]')\n",
    "    await page.click('a[href*=\"&fromage=3\"]')\n",
    "\n",
    "    # Wait for 5 seconds\n",
    "    await asyncio.sleep(5) \n",
    "    print(\"start data\")\n",
    "\n",
    "    job_listings = await page.querySelectorAll('.resultContent')\n",
    "    for job in job_listings:\n",
    "        # Extract the job title\n",
    "        title_element = await job.querySelector('h2.jobTitle span[title]')\n",
    "        title = await page.evaluate('(element) => element.textContent', title_element)\n",
    "\n",
    "\n",
    "        # Extract the company name\n",
    "        company_element = await job.querySelector('div.company_location [data-testid=\"company-name\"]')\n",
    "        company = await page.evaluate('(element) => element.textContent', company_element)\n",
    "\n",
    "\n",
    "        # Extract the location\n",
    "        location_element = await job.querySelector('div.company_location [data-testid=\"text-location\"]')\n",
    "        location = await page.evaluate('(element) => element.textContent', location_element)\n",
    "\n",
    "        with open('jobs.csv', 'w', newline='', encoding='utf-8') as file:\n",
    "            writer = csv.writer(file)\n",
    "            writer.writerow(['Title', 'Company', 'Location'])\n",
    "        print({'title': title, 'company': company, 'location': location})\n",
    "\n",
    "\n",
    "\n",
    "\n",
    "    await browser.close()"
   ]
  },
  {
   "cell_type": "code",
   "execution_count": 29,
   "metadata": {},
   "outputs": [
    {
     "name": "stdout",
     "output_type": "stream",
     "text": [
      "start data\n",
      "{'title': 'WIDA Data Warehouse Analyst', 'company': 'University of Wisconsin–Madison', 'location': 'Remote in Madison, WI 53706'}\n",
      "{'title': 'MLS Data Analyst II', 'company': 'Alex MacWilliam Real Estate', 'location': 'Remote'}\n",
      "{'title': 'Sustainability Data Analyst', 'company': 'BuroHappold Engineering', 'location': 'Durham, NY'}\n",
      "{'title': 'Data Analyst', 'company': 'Howard University', 'location': 'Washington, DC'}\n",
      "{'title': 'Research Data Analyst', 'company': 'Indiana University', 'location': 'Indianapolis, IN 46202\\xa0(Downtown area)'}\n",
      "{'title': 'Data Analyst', 'company': 'RitePros', 'location': 'Portland, ME 04101\\xa0(Downtown area)'}\n",
      "{'title': 'Data Analyst - CNPI', 'company': 'Michigan Public Health Institute (MPHI)', 'location': 'Remote'}\n",
      "{'title': 'Data Analyst', 'company': 'NYU Langone Health', 'location': 'New York, NY 10016\\xa0(Tudor City area)'}\n",
      "{'title': 'Data Analyst 2- Hybrid and/or Remote', 'company': 'Stanford University', 'location': 'Remote in Stanford, CA'}\n",
      "{'title': 'Data Analyst', 'company': 'Astronautics Corporation', 'location': 'Black Mountain, NC 28711'}\n",
      "{'title': 'Data Analyst (ONSITE) READ THE DESC AND APPLY', 'company': 'Raag Solutions', 'location': 'Spring, TX'}\n",
      "{'title': 'Data Analyst', 'company': 'WECTEC Staffing Services', 'location': 'Juno Beach, FL'}\n",
      "{'title': 'Investment Data Analyst', 'company': 'Nationwide', 'location': 'Hybrid work in Columbus, OH 43215'}\n",
      "{'title': 'Staff Data Analyst', 'company': 'Honor', 'location': 'Remote'}\n",
      "{'title': 'Research Data Analyst (6256U), Othering & Belonging Institute - 70403', 'company': 'University of California Berkeley', 'location': 'Berkeley, CA 94720'}\n"
     ]
    }
   ],
   "source": [
    "await scrape_indeed()"
   ]
  },
  {
   "cell_type": "code",
   "execution_count": 28,
   "metadata": {},
   "outputs": [
    {
     "ename": "NameError",
     "evalue": "name 'jobs' is not defined",
     "output_type": "error",
     "traceback": [
      "\u001b[0;31m---------------------------------------------------------------------------\u001b[0m",
      "\u001b[0;31mNameError\u001b[0m                                 Traceback (most recent call last)",
      "\u001b[0;32m/var/folders/9z/9ds2yx_11rn9npnlrnn97fpc0000gn/T/ipykernel_29323/1829800873.py\u001b[0m in \u001b[0;36m<module>\u001b[0;34m\u001b[0m\n\u001b[0;32m----> 1\u001b[0;31m \u001b[0mprint\u001b[0m\u001b[0;34m(\u001b[0m\u001b[0mjobs\u001b[0m\u001b[0;34m.\u001b[0m\u001b[0mcsv\u001b[0m\u001b[0;34m)\u001b[0m\u001b[0;34m\u001b[0m\u001b[0;34m\u001b[0m\u001b[0m\n\u001b[0m",
      "\u001b[0;31mNameError\u001b[0m: name 'jobs' is not defined"
     ]
    }
   ],
   "source": [
    "print(jobs.csv)"
   ]
  }
 ],
 "metadata": {
  "language_info": {
   "name": "python"
  }
 },
 "nbformat": 4,
 "nbformat_minor": 2
}
